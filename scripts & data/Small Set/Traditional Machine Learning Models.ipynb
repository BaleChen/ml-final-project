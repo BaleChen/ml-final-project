{
 "cells": [
  {
   "cell_type": "code",
   "execution_count": 1,
   "id": "d7a3b4b2",
   "metadata": {},
   "outputs": [],
   "source": [
    "import pandas as pd\n",
    "from PIL import Image\n",
    "import numpy as np\n",
    "import torch\n",
    "import torch.nn as nn\n",
    "from torchvision import transforms\n",
    "import matplotlib.pyplot as plt"
   ]
  },
  {
   "cell_type": "code",
   "execution_count": 5,
   "id": "535ba984",
   "metadata": {},
   "outputs": [],
   "source": [
    "data = pd.read_csv(\"train.csv\")"
   ]
  },
  {
   "cell_type": "code",
   "execution_count": 6,
   "id": "6738265e",
   "metadata": {},
   "outputs": [],
   "source": [
    "data.species.replace({\"globis\": \"short_finned_pilot_whale\",\n",
    "                          \"pilot_whale\": \"short_finned_pilot_whale\",\n",
    "                          \"kiler_whale\": \"killer_whale\",\n",
    "                          \"bottlenose_dolpin\": \"bottlenose_dolphin\"}, inplace=True)"
   ]
  },
  {
   "cell_type": "code",
   "execution_count": 7,
   "id": "89d63601",
   "metadata": {
    "scrolled": false
   },
   "outputs": [
    {
     "data": {
      "text/plain": [
       "bottlenose_dolphin           10781\n",
       "beluga                        7443\n",
       "humpback_whale                7392\n",
       "blue_whale                    4830\n",
       "false_killer_whale            3326\n",
       "dusky_dolphin                 3139\n",
       "killer_whale                  2455\n",
       "spinner_dolphin               1700\n",
       "melon_headed_whale            1689\n",
       "minke_whale                   1608\n",
       "fin_whale                     1324\n",
       "gray_whale                    1123\n",
       "southern_right_whale           866\n",
       "short_finned_pilot_whale       745\n",
       "spotted_dolphin                490\n",
       "sei_whale                      428\n",
       "common_dolphin                 347\n",
       "cuviers_beaked_whale           341\n",
       "long_finned_pilot_whale        238\n",
       "white_sided_dolphin            229\n",
       "brydes_whale                   154\n",
       "pantropic_spotted_dolphin      145\n",
       "commersons_dolphin              90\n",
       "pygmy_killer_whale              76\n",
       "rough_toothed_dolphin           60\n",
       "frasiers_dolphin                14\n",
       "Name: species, dtype: int64"
      ]
     },
     "execution_count": 7,
     "metadata": {},
     "output_type": "execute_result"
    }
   ],
   "source": [
    "a = data['species'].value_counts()\n",
    "a"
   ]
  },
  {
   "cell_type": "code",
   "execution_count": 8,
   "id": "350aad31",
   "metadata": {},
   "outputs": [
    {
     "name": "stdout",
     "output_type": "stream",
     "text": [
      "                    image       species individual_id\n",
      "32     0030835e895969.jpg  killer_whale  1816cc1ae38b\n",
      "46     0044ec4ae5ecfd.jpg  killer_whale  e6388e8a7f58\n",
      "89     008705d384b02a.jpg  killer_whale  fe8052dcc19e\n",
      "96     00931cfd50f2b0.jpg  killer_whale  e702dc246ecd\n",
      "113    00afe60388a560.jpg  killer_whale  1138a9024ee5\n",
      "...                   ...           ...           ...\n",
      "50907  ff5d8115749fd6.jpg  killer_whale  9260de22dbe9\n",
      "50927  ff7aa717a36855.jpg  killer_whale  4d44651c308a\n",
      "50963  ffa54f1754fbb1.jpg  killer_whale  caee7717cf57\n",
      "51000  ffcf370369d9d3.jpg  killer_whale  3721912d310c\n",
      "51002  ffd1f69a8660b3.jpg  killer_whale  a1b8c90ce633\n",
      "\n",
      "[2455 rows x 3 columns]\n",
      "0044ec4ae5ecfd.jpg\n"
     ]
    }
   ],
   "source": [
    "whale = data.iloc[:,:][data.species == \"killer_whale\"]\n",
    "dolphin = data.iloc[:,:][data.species == \"bottlenose_dolphin\"]\n",
    "print(whale)\n",
    "print(whale.iat[1,0])"
   ]
  },
  {
   "cell_type": "markdown",
   "id": "a8e6f0c4",
   "metadata": {},
   "source": [
    "## Train/Test Set Loading\n",
    "\n",
    "Flattening the image to 1d-array and load them into train set and test set"
   ]
  },
  {
   "cell_type": "code",
   "execution_count": 41,
   "id": "cb2073ac",
   "metadata": {},
   "outputs": [
    {
     "name": "stdout",
     "output_type": "stream",
     "text": [
      "train_set shape: (3000, 49153), test_set shape: (1000, 49153)\n"
     ]
    }
   ],
   "source": [
    "train_set, test_set = [], []\n",
    "\n",
    "for i in range(1, 1501):\n",
    "    datapoint = np.append(np.asarray(Image.open(f\"dataset/train/0-{i}.jpg\")).flatten(), 0)\n",
    "    train_set.append(datapoint)\n",
    "    \n",
    "for i in range(1, 1501):\n",
    "    datapoint = np.append(np.asarray(Image.open(f\"dataset/train/1-{i}.jpg\")).flatten(), 1)\n",
    "    train_set.append(datapoint)\n",
    "\n",
    "train_set = np.stack(train_set)\n",
    "\n",
    "\n",
    "for i in range(1, 501):\n",
    "    datapoint = np.append(np.asarray(Image.open(f\"dataset/test/0-{i}.jpg\")).flatten(), 0)\n",
    "    test_set.append(datapoint)\n",
    "    \n",
    "for i in range(1, 501):\n",
    "    datapoint = np.append(np.asarray(Image.open(f\"dataset/test/1-{i}.jpg\")).flatten(), 1)\n",
    "    test_set.append(datapoint)\n",
    "\n",
    "test_set = np.stack(test_set)\n",
    "\n",
    "print(f'train_set shape: {train_set.shape}, test_set shape: {test_set.shape}')"
   ]
  },
  {
   "cell_type": "code",
   "execution_count": 52,
   "id": "42092c5b",
   "metadata": {},
   "outputs": [],
   "source": [
    "train_x, train_y = train_set[:,:-1], train_set[:, -1]\n",
    "test_x, test_y = test_set[:,:-1], test_set[:, -1]"
   ]
  },
  {
   "cell_type": "markdown",
   "id": "c4f58609",
   "metadata": {},
   "source": [
    "### PCA Visualization"
   ]
  },
  {
   "cell_type": "code",
   "execution_count": 65,
   "id": "fdf6349a",
   "metadata": {},
   "outputs": [],
   "source": [
    "from sklearn.decomposition import PCA\n",
    "\n",
    "PCA = PCA(n_components = 2,\n",
    "         random_state = 0)\n",
    "\n",
    "vis_x = PCA.fit_transform(train_x)"
   ]
  },
  {
   "cell_type": "code",
   "execution_count": null,
   "id": "5ac207b2",
   "metadata": {},
   "outputs": [],
   "source": [
    "import matplotlib.pyplot as plt"
   ]
  },
  {
   "cell_type": "code",
   "execution_count": 70,
   "id": "0f3841ed",
   "metadata": {
    "scrolled": true
   },
   "outputs": [
    {
     "data": {
      "text/plain": [
       "<matplotlib.collections.PathCollection at 0x7fbbd87fbcd0>"
      ]
     },
     "execution_count": 70,
     "metadata": {},
     "output_type": "execute_result"
    },
    {
     "data": {
      "image/png": "[encoded data removed]",
      "text/plain": [
       "<Figure size 432x288 with 1 Axes>"
      ]
     },
     "metadata": {
      "needs_background": "light"
     },
     "output_type": "display_data"
    }
   ],
   "source": [
    "plt.scatter(vis_x[:,0][train_y == 0], vis_x[:,1][train_y == 0], c = 'r')\n",
    "plt.scatter(vis_x[:,0][train_y == 1], vis_x[:,1][train_y == 1], c = 'b')"
   ]
  },
  {
   "cell_type": "markdown",
   "id": "2abede32",
   "metadata": {},
   "source": [
    "### T-SNE Visualization"
   ]
  },
  {
   "cell_type": "code",
   "execution_count": 73,
   "id": "4634f45a",
   "metadata": {},
   "outputs": [
    {
     "name": "stderr",
     "output_type": "stream",
     "text": [
      "/Users/balechen/opt/anaconda3/lib/python3.8/site-packages/sklearn/manifold/_t_sne.py:780: FutureWarning: The default initialization in TSNE will change from 'random' to 'pca' in 1.2.\n",
      "  warnings.warn(\n",
      "/Users/balechen/opt/anaconda3/lib/python3.8/site-packages/sklearn/manifold/_t_sne.py:790: FutureWarning: The default learning rate in TSNE will change from 200.0 to 'auto' in 1.2.\n",
      "  warnings.warn(\n"
     ]
    },
    {
     "name": "stdout",
     "output_type": "stream",
     "text": [
      "[t-SNE] Computing 91 nearest neighbors...\n",
      "[t-SNE] Indexed 3000 samples in 0.096s...\n",
      "[t-SNE] Computed neighbors for 3000 samples in 11.612s...\n",
      "[t-SNE] Computed conditional probabilities for sample 1000 / 3000\n",
      "[t-SNE] Computed conditional probabilities for sample 2000 / 3000\n",
      "[t-SNE] Computed conditional probabilities for sample 3000 / 3000\n",
      "[t-SNE] Mean sigma: 2250.512142\n",
      "[t-SNE] KL divergence after 250 iterations with early exaggeration: 92.211731\n",
      "[t-SNE] KL divergence after 1000 iterations: 1.947681\n"
     ]
    }
   ],
   "source": [
    "from sklearn.manifold import TSNE\n",
    "\n",
    "TSNE = TSNE(n_components = 2,\n",
    "           verbose = 1,\n",
    "           random_state = 0)\n",
    "\n",
    "vis_x2 = TSNE.fit_transform(train_x)"
   ]
  },
  {
   "cell_type": "code",
   "execution_count": 74,
   "id": "904e5fdf",
   "metadata": {},
   "outputs": [
    {
     "data": {
      "text/plain": [
       "<matplotlib.collections.PathCollection at 0x7fbf8dfcea00>"
      ]
     },
     "execution_count": 74,
     "metadata": {},
     "output_type": "execute_result"
    },
    {
     "data": {
      "image/png": "[encoded data removed]",
      "text/plain": [
       "<Figure size 432x288 with 1 Axes>"
      ]
     },
     "metadata": {
      "needs_background": "light"
     },
     "output_type": "display_data"
    }
   ],
   "source": [
    "plt.scatter(vis_x2[:,0][train_y == 0], vis_x2[:,1][train_y == 0], c = 'r')\n",
    "plt.scatter(vis_x2[:,0][train_y == 1], vis_x2[:,1][train_y == 1], c = 'b')"
   ]
  },
  {
   "cell_type": "markdown",
   "id": "fe260546",
   "metadata": {},
   "source": [
    "## Model Selection"
   ]
  },
  {
   "cell_type": "markdown",
   "id": "a98c87ae",
   "metadata": {},
   "source": [
    "### KNN"
   ]
  },
  {
   "cell_type": "code",
   "execution_count": 53,
   "id": "ad2f616b",
   "metadata": {},
   "outputs": [
    {
     "data": {
      "text/plain": [
       "KNeighborsClassifier(n_jobs=-1)"
      ]
     },
     "execution_count": 53,
     "metadata": {},
     "output_type": "execute_result"
    }
   ],
   "source": [
    "from sklearn.neighbors import KNeighborsClassifier\n",
    "\n",
    "KNN = KNeighborsClassifier(n_neighbors = 5,\n",
    "                          weights = 'uniform',\n",
    "                           n_jobs = -1)\n",
    "\n",
    "KNN.fit(train_x, train_y)"
   ]
  },
  {
   "cell_type": "code",
   "execution_count": 54,
   "id": "958d7e8f",
   "metadata": {},
   "outputs": [
    {
     "name": "stdout",
     "output_type": "stream",
     "text": [
      "0.809\n"
     ]
    }
   ],
   "source": [
    "pred_y = KNN.predict(test_x)\n",
    "print(np.mean(pred_y == test_y))"
   ]
  },
  {
   "cell_type": "markdown",
   "id": "dba3482a",
   "metadata": {},
   "source": [
    "### Decision Tree"
   ]
  },
  {
   "cell_type": "code",
   "execution_count": 75,
   "id": "fe19dd79",
   "metadata": {},
   "outputs": [
    {
     "data": {
      "text/plain": [
       "DecisionTreeClassifier()"
      ]
     },
     "execution_count": 75,
     "metadata": {},
     "output_type": "execute_result"
    }
   ],
   "source": [
    "from sklearn.tree import DecisionTreeClassifier\n",
    "\n",
    "DT = DecisionTreeClassifier(criterion = 'gini',\n",
    "                          max_depth = None,\n",
    "                            max_features = None,\n",
    "                          ccp_alpha = 0.0)\n",
    "\n",
    "DT.fit(train_x, train_y)"
   ]
  },
  {
   "cell_type": "code",
   "execution_count": 76,
   "id": "f3d14d10",
   "metadata": {},
   "outputs": [
    {
     "name": "stdout",
     "output_type": "stream",
     "text": [
      "0.743\n"
     ]
    }
   ],
   "source": [
    "pred_y = DT.predict(test_x)\n",
    "print(np.mean(pred_y == test_y))"
   ]
  },
  {
   "cell_type": "markdown",
   "id": "2bd7137a",
   "metadata": {},
   "source": [
    "### Linear Models"
   ]
  },
  {
   "cell_type": "code",
   "execution_count": 59,
   "id": "676810f1",
   "metadata": {},
   "outputs": [],
   "source": [
    "from sklearn import linear_model as LM"
   ]
  },
  {
   "cell_type": "code",
   "execution_count": 61,
   "id": "02771fab",
   "metadata": {},
   "outputs": [
    {
     "name": "stderr",
     "output_type": "stream",
     "text": [
      "/Users/balechen/opt/anaconda3/lib/python3.8/site-packages/sklearn/linear_model/_sag.py:352: ConvergenceWarning: The max_iter was reached which means the coef_ did not converge\n",
      "  warnings.warn(\n"
     ]
    },
    {
     "data": {
      "text/plain": [
       "LogisticRegression(solver='saga')"
      ]
     },
     "execution_count": 61,
     "metadata": {},
     "output_type": "execute_result"
    }
   ],
   "source": [
    "LogisticReg = LM.LogisticRegression(penalty = 'l2',\n",
    "                                   tol = 1e-4,\n",
    "                                   C = 1.0,\n",
    "                                   solver = 'saga',\n",
    "                                   max_iter = 100)\n",
    "\n",
    "LogisticReg.fit(train_x, train_y)"
   ]
  },
  {
   "cell_type": "code",
   "execution_count": 64,
   "id": "85bdd413",
   "metadata": {},
   "outputs": [
    {
     "name": "stdout",
     "output_type": "stream",
     "text": [
      "0.827\n"
     ]
    }
   ],
   "source": [
    "pred_y = LogisticReg.predict(test_x)\n",
    "print(np.mean(pred_y == test_y))"
   ]
  }
 ],
 "metadata": {
  "kernelspec": {
   "display_name": "Python 3",
   "language": "python",
   "name": "python3"
  },
  "language_info": {
   "codemirror_mode": {
    "name": "ipython",
    "version": 3
   },
   "file_extension": ".py",
   "mimetype": "text/x-python",
   "name": "python",
   "nbconvert_exporter": "python",
   "pygments_lexer": "ipython3",
   "version": "3.8.8"
  },
  "toc": {
   "base_numbering": 1,
   "nav_menu": {},
   "number_sections": true,
   "sideBar": true,
   "skip_h1_title": false,
   "title_cell": "Table of Contents",
   "title_sidebar": "Contents",
   "toc_cell": false,
   "toc_position": {},
   "toc_section_display": true,
   "toc_window_display": false
  }
 },
 "nbformat": 4,
 "nbformat_minor": 5
}

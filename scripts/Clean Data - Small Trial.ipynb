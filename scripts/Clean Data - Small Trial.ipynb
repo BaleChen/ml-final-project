{
 "cells": [
  {
   "cell_type": "code",
   "execution_count": 2,
   "id": "d7a3b4b2",
   "metadata": {},
   "outputs": [],
   "source": [
    "import pandas as pd\n",
    "from PIL import Image\n",
    "import numpy as np\n",
    "import torch\n",
    "import torch.nn as nn\n",
    "from torchvision import transforms\n",
    "import matplotlib.pyplot as plt\n",
    "import cv2"
   ]
  },
  {
   "cell_type": "code",
   "execution_count": 2,
   "id": "535ba984",
   "metadata": {},
   "outputs": [],
   "source": [
    "data = pd.read_csv(\"train.csv\")"
   ]
  },
  {
   "cell_type": "code",
   "execution_count": 3,
   "id": "15546967",
   "metadata": {},
   "outputs": [
    {
     "data": {
      "text/html": [
       "<div>\n",
       "<style scoped>\n",
       "    .dataframe tbody tr th:only-of-type {\n",
       "        vertical-align: middle;\n",
       "    }\n",
       "\n",
       "    .dataframe tbody tr th {\n",
       "        vertical-align: top;\n",
       "    }\n",
       "\n",
       "    .dataframe thead th {\n",
       "        text-align: right;\n",
       "    }\n",
       "</style>\n",
       "<table border=\"1\" class=\"dataframe\">\n",
       "  <thead>\n",
       "    <tr style=\"text-align: right;\">\n",
       "      <th></th>\n",
       "      <th>image</th>\n",
       "      <th>species</th>\n",
       "      <th>individual_id</th>\n",
       "    </tr>\n",
       "  </thead>\n",
       "  <tbody>\n",
       "    <tr>\n",
       "      <th>0</th>\n",
       "      <td>00021adfb725ed.jpg</td>\n",
       "      <td>melon_headed_whale</td>\n",
       "      <td>cadddb1636b9</td>\n",
       "    </tr>\n",
       "    <tr>\n",
       "      <th>1</th>\n",
       "      <td>000562241d384d.jpg</td>\n",
       "      <td>humpback_whale</td>\n",
       "      <td>1a71fbb72250</td>\n",
       "    </tr>\n",
       "    <tr>\n",
       "      <th>2</th>\n",
       "      <td>0007c33415ce37.jpg</td>\n",
       "      <td>false_killer_whale</td>\n",
       "      <td>60008f293a2b</td>\n",
       "    </tr>\n",
       "    <tr>\n",
       "      <th>3</th>\n",
       "      <td>0007d9bca26a99.jpg</td>\n",
       "      <td>bottlenose_dolphin</td>\n",
       "      <td>4b00fe572063</td>\n",
       "    </tr>\n",
       "    <tr>\n",
       "      <th>4</th>\n",
       "      <td>00087baf5cef7a.jpg</td>\n",
       "      <td>humpback_whale</td>\n",
       "      <td>8e5253662392</td>\n",
       "    </tr>\n",
       "  </tbody>\n",
       "</table>\n",
       "</div>"
      ],
      "text/plain": [
       "                image             species individual_id\n",
       "0  00021adfb725ed.jpg  melon_headed_whale  cadddb1636b9\n",
       "1  000562241d384d.jpg      humpback_whale  1a71fbb72250\n",
       "2  0007c33415ce37.jpg  false_killer_whale  60008f293a2b\n",
       "3  0007d9bca26a99.jpg  bottlenose_dolphin  4b00fe572063\n",
       "4  00087baf5cef7a.jpg      humpback_whale  8e5253662392"
      ]
     },
     "execution_count": 3,
     "metadata": {},
     "output_type": "execute_result"
    }
   ],
   "source": [
    "data.head()"
   ]
  },
  {
   "cell_type": "code",
   "execution_count": 4,
   "id": "d9b1fc3a",
   "metadata": {
    "scrolled": false
   },
   "outputs": [
    {
     "name": "stdout",
     "output_type": "stream",
     "text": [
      "melon_headed_whale\n",
      "humpback_whale\n",
      "false_killer_whale\n",
      "bottlenose_dolphin\n",
      "beluga\n",
      "minke_whale\n",
      "fin_whale\n",
      "blue_whale\n",
      "gray_whale\n",
      "southern_right_whale\n",
      "common_dolphin\n",
      "kiler_whale\n",
      "pilot_whale\n",
      "dusky_dolphin\n",
      "killer_whale\n",
      "long_finned_pilot_whale\n",
      "sei_whale\n",
      "spinner_dolphin\n",
      "bottlenose_dolpin\n",
      "cuviers_beaked_whale\n",
      "spotted_dolphin\n",
      "globis\n",
      "brydes_whale\n",
      "commersons_dolphin\n",
      "white_sided_dolphin\n",
      "short_finned_pilot_whale\n",
      "rough_toothed_dolphin\n",
      "pantropic_spotted_dolphin\n",
      "pygmy_killer_whale\n",
      "frasiers_dolphin\n"
     ]
    }
   ],
   "source": [
    "for i in data['species'].unique():\n",
    "    print(i)"
   ]
  },
  {
   "cell_type": "code",
   "execution_count": 5,
   "id": "6738265e",
   "metadata": {},
   "outputs": [],
   "source": [
    "data.species.replace({\"globis\": \"short_finned_pilot_whale\",\n",
    "                          \"pilot_whale\": \"short_finned_pilot_whale\",\n",
    "                          \"kiler_whale\": \"killer_whale\",\n",
    "                          \"bottlenose_dolpin\": \"bottlenose_dolphin\"}, inplace=True)"
   ]
  },
  {
   "cell_type": "code",
   "execution_count": 6,
   "id": "89d63601",
   "metadata": {},
   "outputs": [
    {
     "data": {
      "text/plain": [
       "bottlenose_dolphin           10781\n",
       "beluga                        7443\n",
       "humpback_whale                7392\n",
       "blue_whale                    4830\n",
       "false_killer_whale            3326\n",
       "dusky_dolphin                 3139\n",
       "killer_whale                  2455\n",
       "spinner_dolphin               1700\n",
       "melon_headed_whale            1689\n",
       "minke_whale                   1608\n",
       "fin_whale                     1324\n",
       "gray_whale                    1123\n",
       "southern_right_whale           866\n",
       "short_finned_pilot_whale       745\n",
       "spotted_dolphin                490\n",
       "sei_whale                      428\n",
       "common_dolphin                 347\n",
       "cuviers_beaked_whale           341\n",
       "long_finned_pilot_whale        238\n",
       "white_sided_dolphin            229\n",
       "brydes_whale                   154\n",
       "pantropic_spotted_dolphin      145\n",
       "commersons_dolphin              90\n",
       "pygmy_killer_whale              76\n",
       "rough_toothed_dolphin           60\n",
       "frasiers_dolphin                14\n",
       "Name: species, dtype: int64"
      ]
     },
     "execution_count": 6,
     "metadata": {},
     "output_type": "execute_result"
    }
   ],
   "source": [
    "a = data['species'].value_counts()\n",
    "a"
   ]
  },
  {
   "cell_type": "code",
   "execution_count": 18,
   "id": "8ef7b9e3",
   "metadata": {},
   "outputs": [
    {
     "name": "stdout",
     "output_type": "stream",
     "text": [
      "                    image       species individual_id\n",
      "32     0030835e895969.jpg  killer_whale  1816cc1ae38b\n",
      "46     0044ec4ae5ecfd.jpg  killer_whale  e6388e8a7f58\n",
      "89     008705d384b02a.jpg  killer_whale  fe8052dcc19e\n",
      "96     00931cfd50f2b0.jpg  killer_whale  e702dc246ecd\n",
      "113    00afe60388a560.jpg  killer_whale  1138a9024ee5\n",
      "...                   ...           ...           ...\n",
      "50907  ff5d8115749fd6.jpg  killer_whale  9260de22dbe9\n",
      "50927  ff7aa717a36855.jpg  killer_whale  4d44651c308a\n",
      "50963  ffa54f1754fbb1.jpg  killer_whale  caee7717cf57\n",
      "51000  ffcf370369d9d3.jpg  killer_whale  3721912d310c\n",
      "51002  ffd1f69a8660b3.jpg  killer_whale  a1b8c90ce633\n",
      "\n",
      "[2455 rows x 3 columns]\n",
      "0044ec4ae5ecfd.jpg\n"
     ]
    }
   ],
   "source": [
    "whale = data.iloc[:,:][data.species == \"killer_whale\"]\n",
    "dolphin = data.iloc[:,:][data.species == \"bottlenose_dolphin\"]\n",
    "print(whale)\n",
    "print(whale.iat[1,0])"
   ]
  },
  {
   "cell_type": "code",
   "execution_count": 20,
   "id": "8b4697ce",
   "metadata": {
    "code_folding": [],
    "scrolled": true
   },
   "outputs": [],
   "source": [
    "# handle the train images\n",
    "for i in range(2000):\n",
    "    I_whale = Image.open(f\"train_images-128-128/{whale.iat[i,0]}\")\n",
    "    I_dophin = Image.open(f\"train_images-128-128/{dolphin.iat[i,0]}\")\n",
    "    if i < 1500:\n",
    "        I_whale.save(f\"dataset/train/1-{i+1}.jpg\")\n",
    "        I_dophin.save(f\"dataset/train/0-{i+1}.jpg\")\n",
    "    else:\n",
    "        I_whale.save(f\"dataset/test/1-{i+1-1500}.jpg\")\n",
    "        I_dophin.save(f\"dataset/test/0-{i+1-1500}.jpg\")\n"
   ]
  }
 ],
 "metadata": {
  "kernelspec": {
   "display_name": "Python 3 (ipykernel)",
   "language": "python",
   "name": "python3"
  },
  "language_info": {
   "codemirror_mode": {
    "name": "ipython",
    "version": 3
   },
   "file_extension": ".py",
   "mimetype": "text/x-python",
   "name": "python",
   "nbconvert_exporter": "python",
   "pygments_lexer": "ipython3",
   "version": "3.7.11"
  }
 },
 "nbformat": 4,
 "nbformat_minor": 5
}
